{
 "cells": [
  {
   "cell_type": "markdown",
   "id": "703dc900",
   "metadata": {},
   "source": [
    "## Frobenius example - August exam 2022"
   ]
  },
  {
   "cell_type": "markdown",
   "id": "592fd7c8",
   "metadata": {},
   "source": [
    "Consider the 2nd order linear ordinary differential equation with non-constant coefficients\n",
    "\n",
    "\\begin{equation*}\n",
    " x\\frac{\\mathrm{d}^2 y}{\\mathrm{d}x^2}-3\\frac{\\mathrm{d} y}{\\mathrm{d}x}+16x^7y=0.\n",
    "\\end{equation*}\n",
    "\n",
    "Equations of this form can be solved using Frobenius method.\n",
    "\n",
    "1. Assume solutions take the form\n",
    "\n",
    " \\begin{equation*}\n",
    "  y=x^{m}\\sum_{n=0}^{\\infty}a_n x^{n}.\n",
    " \\end{equation*}\n",
    "\n",
    " Subsititue this expansion into the above equation and show that this yields\n",
    "\n",
    " \\begin{equation*}\n",
    "  \\sum_{n=0}^{\\infty}(m+n-4)(m+n)a_n x^{m+n-1}+16\\sum_{n=0}^{\\infty}a_n x^{m+n+7}=0.\n",
    " \\end{equation*}\n",
    "\n",
    " (7 marks)\n",
    "\n",
    "2.  By examining the $n=0$ term of the second expression given in part (a) show that $m$ can take the values 0 or 4.\n",
    " (3 marks)\n",
    "\n",
    "3. Using the second expression given in part (a) (or otherwise) show that the coefficients $a_n$ must satisfy the recurrence relation\n",
    " \n",
    " \\begin{equation*}\n",
    "  a_n=-\\frac{16a_{n-8}}{(m+n-4)(m+n)}\n",
    " \\end{equation*}\n",
    "\n",
    " (7 marks)\n",
    "\n",
    "4. Finally, show that the general solution takes the form\n",
    "\n",
    " \\begin{equation*}\n",
    "  y=A\\cos(x^4)+B\\sin(x^4).\n",
    " \\end{equation*}\n",
    "\n",
    " (8 marks)"
   ]
  },
  {
   "cell_type": "markdown",
   "id": "246e0da8",
   "metadata": {},
   "source": [
    "## Note - we'll go through the solution to this problem on the board in the Monday lecture."
   ]
  }
 ],
 "metadata": {
  "kernelspec": {
   "display_name": "Python 3",
   "language": "python",
   "name": "python3"
  },
  "language_info": {
   "codemirror_mode": {
    "name": "ipython",
    "version": 3
   },
   "file_extension": ".py",
   "mimetype": "text/x-python",
   "name": "python",
   "nbconvert_exporter": "python",
   "pygments_lexer": "ipython3",
   "version": "3.9.7"
  }
 },
 "nbformat": 4,
 "nbformat_minor": 5
}
