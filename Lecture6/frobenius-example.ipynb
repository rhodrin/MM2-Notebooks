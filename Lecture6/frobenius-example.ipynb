{
 "cells": [
  {
   "cell_type": "markdown",
   "metadata": {},
   "source": [
    "# Additional example\n",
    "\n",
    "### Solve $x(x-1)y''+3xy'+y=0$:\n",
    "\n",
    "First, notice that\n",
    "\\begin{equation*}\n",
    "xp(x)=\\frac{3x}{x-1},\n",
    "\\end{equation*}\n",
    "\n",
    "and\n",
    "\n",
    "\\begin{equation*}\n",
    "x^2q(x)=\\frac{x}{x-1},\n",
    "\\end{equation*}\n",
    "\n",
    "are both finite in the limit $x\\rightarrow 0$ and hence the Method of Frobenius should yield at least one solution."
   ]
  },
  {
   "cell_type": "markdown",
   "metadata": {},
   "source": [
    "So lets look for solutions of the form\n",
    "\n",
    "\\begin{equation*}\n",
    "y(x)=x^m\\sum_{k=0}^{\\infty}a_kx^k.\n",
    "\\end{equation*}\n",
    "\n",
    "Dividing through by $x(x-1)$ and substituting our series we get\n",
    "\n",
    "\\begin{equation*}\n",
    " \\sum_{k=0}^{\\infty}(k+m)(k+m-1)a_kx^{k+m-2}+\\frac{3}{x-1}\\sum_{k=0}^{\\infty}(k+m)a_kx^{k+m-1}+\\frac{1}{x(x-1)}\\sum_{k=0}^{\\infty}a_kx^{k+m}=0.\n",
    "\\end{equation*}\n",
    "\n",
    "Dividing through by $x^{m-2}$ we get\n",
    "\n",
    "\\begin{equation*}\n",
    " \\sum_{k=0}^{\\infty}\\left[(k+m)(k+m-1)+\\frac{3x}{x-1}(k+m)+\\frac{x}{x-1}\\right]a_kx^{k}=0.\n",
    "\\end{equation*}\n",
    "\n",
    "Note how the fractional terms have changed to keep everything consistent!"
   ]
  },
  {
   "cell_type": "markdown",
   "metadata": {},
   "source": [
    "We can re-write this as\n",
    "\n",
    "\\begin{equation*}\n",
    " \\sum_{k=0}^{\\infty}\\left[(x-1)(k+m)(k+m-1)+3x(k+m)+x\\right]a_kx^k=0.\n",
    "\\end{equation*}"
   ]
  },
  {
   "cell_type": "markdown",
   "metadata": {},
   "source": [
    "This must be valid for all $x$, and hence if we set $x=0$ we arrive at\n",
    "\n",
    "\\begin{equation*}\n",
    " m(m-1)=0.\n",
    "\\end{equation*}\n",
    "\n",
    "Note that this is what we would have arrived at if we also 'factored' out the first few terms and re-indexed the sums as we did in some examples last week.\n",
    "\n",
    "Since the roots differ by an integer it may not be possible to find two linearly independent solutions. And indeed, we have chosen this case because it isn't!\n",
    "\n",
    "Demanding that the coefficients of $z^n$ sum to zero we obtain\n",
    "\n",
    "\\begin{equation*}\n",
    " (k-1+m)(k-2+m)a_{k-1}-(k+m)(k+m-1)a_k+3(k-1+m)a_{k-1}+a_{k-1}=0,\n",
    "\\end{equation*}\n",
    "\n",
    "or\n",
    "\n",
    "\\begin{equation*}\n",
    " (k+m-1)a_k=(k+m)a_{k-1}.\n",
    "\\end{equation*}"
   ]
  },
  {
   "cell_type": "markdown",
   "metadata": {},
   "source": [
    "Subbing $m=1$ we arrive at\n",
    "\n",
    "\\begin{equation*}\n",
    " a_k=\\left(\\frac{k+1}{k}\\right)a_{k-1}, \\qquad \\text{or} \\qquad a_{k+1}=\\left(\\frac{k+2}{k+1}\\right)a_k,\n",
    "\\end{equation*}\n",
    "\n",
    "and hence $a_n=a_0(n+1)$ and\n",
    "\n",
    "\\begin{equation*}\n",
    " y_1(x)=a_0x\\sum_{k=0}^{\\infty}(k+1)x^k=\\frac{x}{(1-x)^2}.\n",
    "\\end{equation*}"
   ]
  },
  {
   "cell_type": "markdown",
   "metadata": {},
   "source": [
    "Choosing $m=0$ we see that\n",
    "\n",
    "\\begin{equation*}\n",
    " a_k=\\left(\\frac{k}{k-1}\\right)a_{k-1}, \\qquad \\text{or} \\qquad a_{k+1}=\\left(\\frac{k+1}{k}\\right)a_{k},\n",
    "\\end{equation*}\n",
    "\n",
    "which is 'not possible' if we require that $a_0 \\ne 0$."
   ]
  },
  {
   "cell_type": "markdown",
   "metadata": {},
   "source": [
    "Hence we need to find the next solution through another means. We'll use the integrating factor method which we saw when solving non homogeneous second order ODEs with constant coefficients.\n",
    "\n",
    "Recall that that $W(x)=y_1y_2'-y_2y_1'$. Lets turn this into and ODE for $y_2$! We can write it as\n",
    "\n",
    "\\begin{equation*}\n",
    " y_2'-\\frac{y_1'}{y_1}y_2=\\frac{W}{y_1},\n",
    "\\end{equation*}\n",
    "\n",
    "which is a first-oder inhomogeneous equation for $y_2$. Solving in the normal manner, with $y_2=y_{2h}+y_{2p}$, we see that\n",
    "\n",
    "\\begin{equation*}\n",
    " y_{2h}=y_1.\n",
    "\\end{equation*}\n",
    "\n",
    "Hence\n",
    "\n",
    "\\begin{equation*}\n",
    " y_{2p}=y_1\\int\\frac{W}{y_1^2}\\mathrm{d}x.\n",
    "\\end{equation*}\n",
    "\n",
    "This is where things get tricky - we don't currently know the exact form of $W$ and hence we'll need to find a way to re-write it. Consider its derivative\n",
    "\n",
    "\\begin{equation*}\n",
    " W'=y_1y_2''+y_1'y_2'-y_2y_1''-y_2'y_1'=y_1y_2''-y_1''y_2,\n",
    "\\end{equation*}\n",
    "\n",
    "(since by construction $y_1'y_2'-y_2'y_1'=0$). Since $y_1$ and $y_2$ both satisfy $y''+py'+qy=0$, we have that\n",
    "\n",
    "\\begin{equation*}\n",
    " y_1''=-py_1'-qy_1, \\qquad y_2''=-py_2'-qy_2\n",
    "\\end{equation*}\n",
    "\n",
    "and hence\n",
    "\n",
    "\\begin{equation*}\n",
    " W'=-p(y_1y_2'-y_1'y_2)=-pW,\n",
    "\\end{equation*}\n",
    "\n",
    "or\n",
    "\n",
    "\\begin{equation*}\n",
    " W=C\\mathrm{exp}\\left\\{-\\int p\\mathrm{d}x\\right\\}.\n",
    "\\end{equation*}\n",
    "\n",
    "Hence\n",
    "\n",
    "\\begin{equation*}\n",
    " y_2=y_1\\int\\frac{1}{y_1^2}\\mathrm{exp}\\left(-\\int^x p(u)\\mathrm{d}u\\right)\\mathrm{d}x.\n",
    "\\end{equation*}\n",
    "\n",
    "Note that we're writing $y_2$ here now and not $y_{2p}$ since $y_{2p}=y_1$ which will already in the final solution. In our current problem, $p(x)=3/(x-1)$ and we have $y_1=x/(1-x)^2$.\n",
    "\n",
    "Plugging these in we get\n",
    "\n",
    "\\begin{equation*}\n",
    " y_2(x)=\\frac{x}{(1-x)^2}\\int\\frac{(1-x)^4}{x^2}\\mathrm{exp}\\left(-\\int^{x}\\frac{3}{u-1}\\mathrm{d}u\\right)\\mathrm{d}x\n",
    "\\end{equation*}\n",
    "\n"
   ]
  },
  {
   "cell_type": "markdown",
   "metadata": {},
   "source": [
    "Upon evaluating the first integral we get\n",
    "\n",
    "\\begin{equation*}\n",
    " y_2=\\frac{x}{(1-x)^2}\\int\\frac{(1-x)^4}{x^2}\\mathrm{exp}\\left(-3\\ln(x-1)\\right)\\mathrm{d}x=\\frac{x}{(1-x)^2}\\int\\frac{x-1}{x^2}\\mathrm{d}x.\n",
    "\\end{equation*}"
   ]
  },
  {
   "cell_type": "markdown",
   "metadata": {},
   "source": [
    "Evaluating and simplifying we arrive at\n",
    "\n",
    "\\begin{equation*}\n",
    "y_2=\\frac{x}{(1-x)^2}\\left(\\ln x+\\frac{1}{x}\\right)\n",
    "\\end{equation*}\n",
    "\n",
    "and combining our solutions we get\n",
    "\n",
    "\\begin{equation*}\n",
    "y=A\\frac{x}{(1-x)^2}+B\\frac{x}{(1-x)^2}\\left(\\ln x+\\frac{1}{x}\\right)\n",
    "\\end{equation*}"
   ]
  }
 ],
 "metadata": {
  "kernelspec": {
   "display_name": "Python 3 (ipykernel)",
   "language": "python",
   "name": "python3"
  },
  "language_info": {
   "codemirror_mode": {
    "name": "ipython",
    "version": 3
   },
   "file_extension": ".py",
   "mimetype": "text/x-python",
   "name": "python",
   "nbconvert_exporter": "python",
   "pygments_lexer": "ipython3",
   "version": "3.11.5"
  }
 },
 "nbformat": 4,
 "nbformat_minor": 4
}
